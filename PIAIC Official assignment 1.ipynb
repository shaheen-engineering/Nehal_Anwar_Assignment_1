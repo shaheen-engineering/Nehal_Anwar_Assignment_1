{
 "cells": [
  {
   "cell_type": "markdown",
   "metadata": {},
   "source": [
    "## 1. Calculate Area of a Circle"
   ]
  },
  {
   "cell_type": "markdown",
   "metadata": {},
   "source": [
    "#### Write a Python program which accepts the radius of a circle from the user and compute the area.\n",
    "###### Program Console Sample Output 1:\n",
    "###### Input Radius: 0.5\n",
    "###### Area of Circle with radius 0.5 is 0.7853981634"
   ]
  },
  {
   "cell_type": "code",
   "execution_count": null,
   "metadata": {},
   "outputs": [],
   "source": [
    "\n",
    "radius = float(input(\"Enter the value of Radius: \\n\"))\n",
    "pi = 3.142\n",
    "Area = pi*(radius*radius)\n",
    "print(\"The Area of Circle is: \")\n",
    "print(Area)\n"
   ]
  },
  {
   "cell_type": "markdown",
   "metadata": {},
   "source": [
    "## 2. Check Number either positive, negative or zero"
   ]
  },
  {
   "cell_type": "markdown",
   "metadata": {},
   "source": [
    "#### Write a Python program to check if a number is positive, negative or zero\n",
    "###### Program Console Sample Output 1:\n",
    "###### Enter Number: -1\n",
    "##### Negative Number Entered\n",
    "###### Program Console Sample Output 2:\n",
    "##### Integer: 3\n",
    "##### Positive Number Entered\n",
    "###### Program Console Sample Output 3:\n",
    "##### Integer: 0\n",
    "###### Zero Entered"
   ]
  },
  {
   "cell_type": "code",
   "execution_count": 6,
   "metadata": {},
   "outputs": [
    {
     "name": "stdout",
     "output_type": "stream",
     "text": [
      "Enter a Number:\n",
      " -65\n",
      "The Entered NUmber is Negative\n",
      "\n"
     ]
    }
   ],
   "source": [
    "\n",
    "number = int(input(\"Enter a Number:\\n \"))\n",
    "if number==0:\n",
    "    print(\"The Entered Number is Zero\\n\")\n",
    "elif number>0:\n",
    "    print(\"The Entered Number is Positive\\n\")\n",
    "else:\n",
    "    print(\"The Entered NUmber is Negative\\n\")"
   ]
  },
  {
   "cell_type": "markdown",
   "metadata": {},
   "source": [
    "## 3. Divisibility Check of two numbers"
   ]
  },
  {
   "cell_type": "markdown",
   "metadata": {},
   "source": [
    "#### Write a Python program to check whether a number is completely divisible by another number. Accept two integer values form the user\n",
    "##### Program Console Sample Output 1:\n",
    "###### Enter numerator: 4\n",
    "###### Enter Denominator: 2\n",
    "##### Number 4 is Completely divisible by 2\n",
    "###### Program Console Sample Output 2:\n",
    "##### Enter numerator: 7\n",
    "\n",
    "##### Enter Denominator: 4\n",
    "###### Number 7 is not Completely divisible by 4"
   ]
  },
  {
   "cell_type": "code",
   "execution_count": 10,
   "metadata": {},
   "outputs": [
    {
     "name": "stdout",
     "output_type": "stream",
     "text": [
      "Enter Numerator: 6\n",
      "Enter Denominator: 3\n",
      "6 is completely divisible by 3\n"
     ]
    }
   ],
   "source": [
    "numerator = int(input(\"Enter Numerator: \"))\n",
    "denominator = int(input(\"Enter Denominator: \"))\n",
    "if numerator%denominator==0:\n",
    "    print (numerator,\"is completely divisible by\",denominator)\n",
    "if numerator%denominator!=0:\n",
    "        print(numerator,\"is not completely divisible by\",denominator)"
   ]
  },
  {
   "cell_type": "markdown",
   "metadata": {},
   "source": [
    "## 4. Calculate Volume of a sphere"
   ]
  },
  {
   "cell_type": "markdown",
   "metadata": {},
   "source": [
    "##### Write a Python program to get the volume of a sphere, please take the radius as input from user"
   ]
  },
  {
   "cell_type": "markdown",
   "metadata": {},
   "source": [
    "##### Program Console Output:\n",
    "##### Enter Radius of Sphere: 1\n",
    "###### Volume of the Sphere with Radius 1 is 4.18"
   ]
  },
  {
   "cell_type": "code",
   "execution_count": 1,
   "metadata": {},
   "outputs": [
    {
     "name": "stdout",
     "output_type": "stream",
     "text": [
      "Enter the Radius of the Sphere: \n",
      "1\n",
      "The Volume of the Sphere is: \n",
      "\n",
      "4.189333333333333\n"
     ]
    }
   ],
   "source": [
    "#To calculate the Volume of the Sphere\n",
    "radius= float(input(\"Enter the Radius of the Sphere: \\n\"))\n",
    "pi=3.142\n",
    "Volume_of_the_Sphere=(4/3)*pi*radius*radius*radius\n",
    "print(\"The Volume of the Sphere is: \\n\")\n",
    "print(Volume_of_the_Sphere)"
   ]
  },
  {
   "cell_type": "markdown",
   "metadata": {},
   "source": [
    "## 5. Copy string n times\n",
    "#### Write a Python program to get a string which is n (non-negative integer) copies of a given string.\n",
    "##### Program Console Output:\n",
    "##### Enter String: Hi\n",
    "###### How many copies of String you need: 4\n",
    "###### 4 Copies of Hi are HiHiHiHi"
   ]
  },
  {
   "cell_type": "code",
   "execution_count": 72,
   "metadata": {},
   "outputs": [
    {
     "name": "stdout",
     "output_type": "stream",
     "text": [
      "Enter any word\n",
      "Nehal\n",
      "How many copies of String you need\n",
      "4\n",
      "Nehal\n",
      "Nehal\n",
      "Nehal\n",
      "Nehal\n"
     ]
    }
   ],
   "source": [
    "#To Copy an entered string by user\n",
    "str1 = input(\"Enter any word\\n\")\n",
    "copies = int(input(\"How many copies of String you need\\n\"))\n",
    "for i in range(copies):\n",
    "    print(str1, end='\\n')"
   ]
  },
  {
   "cell_type": "markdown",
   "metadata": {},
   "source": [
    "## 6. Check if number is Even or Odd\n",
    "### Write a Python program to find whether a given number (accept from the user) is even or odd, print out an appropriate message to the user\n",
    "#### Program Console Output 1:\n",
    "##### Enter Number: 4\n",
    "###### 4 is Even\n",
    "#### Program Console Output 2:\n",
    "##### Enter Number: 9\n",
    "###### 9 is Odd"
   ]
  },
  {
   "cell_type": "code",
   "execution_count": 15,
   "metadata": {},
   "outputs": [
    {
     "name": "stdout",
     "output_type": "stream",
     "text": [
      "Enter a number96\n",
      "Entered Number is Even\n"
     ]
    }
   ],
   "source": [
    "#To check number is even or odd\n",
    "num = int(input(\"Enter a number\"))\n",
    "if num%2==0:\n",
    "    print(\"Entered Number is Even\")\n",
    "if num%2!=0:\n",
    "        print(\"Entered Number is Odd\")\n"
   ]
  },
  {
   "cell_type": "markdown",
   "metadata": {},
   "source": [
    "## 7. Vowel Tester\n",
    "### Write a Python program to test whether a passed letter is a vowel or not\n",
    "#### Program Console Output 1:\n",
    "##### Enter a character: A\n",
    "###### Letter A is Vowel\n",
    "#### Program Console Output 2:\n",
    "##### Enter a character: e\n",
    "###### Letter e is Vowel\n",
    "#### Program Console Output 2:\n",
    "##### Enter a character: N\n",
    "###### Letter N is not Vowel"
   ]
  },
  {
   "cell_type": "code",
   "execution_count": 34,
   "metadata": {},
   "outputs": [
    {
     "name": "stdout",
     "output_type": "stream",
     "text": [
      "Enter any English Alphabet: p\n",
      "The Entered Alphabet is not a VOWEL.\n"
     ]
    }
   ],
   "source": [
    "#To check the Letter is vowel or not\n",
    "alphabet = input(\"Enter any English Alphabet: \")\n",
    "if alphabet==\"a\" or alphabet==\"e\" or alphabet==\"i\" or alphabet==\"o\" or alphabet==\"u\" or alphabet==\"A\" or alphabet==\"E\" or alphabet==\"I\" or alphabet==\"O\" or alphabet==\"U\":\n",
    "   print(\"The Entered Alphabet is VOWEL.\")\n",
    "else:\n",
    "    print(\"The Entered Alphabet is a CONSONANT.\")\n",
    "    "
   ]
  },
  {
   "cell_type": "markdown",
   "metadata": {},
   "source": [
    "## 8. Triangle area\n",
    "### Write a Python program that will accept the base and height of a triangle and compute the area\n",
    "###### Reference:\n",
    "https://www.mathgoodies.com/lessons/vol1/area_triangle"
   ]
  },
  {
   "cell_type": "code",
   "execution_count": 62,
   "metadata": {},
   "outputs": [
    {
     "name": "stdout",
     "output_type": "stream",
     "text": [
      "Enter the value of Height: \n",
      "10\n",
      "Enter the value of Length: \n",
      "20\n",
      "The Area of a triangle is: \n",
      "100.0\n",
      "meters\n"
     ]
    }
   ],
   "source": [
    "height = float(input(\"Enter the value of Height: \\n\"))\n",
    "length = float(input(\"Enter the value of Length: \\n\"))\n",
    "area=(1/2)*length*height\n",
    "print(\"The Area of a triangle is: \")\n",
    "print(area)\n",
    "print(\"meters\")"
   ]
  },
  {
   "cell_type": "code",
   "execution_count": 55,
   "metadata": {},
   "outputs": [],
   "source": [
    "#9. Calculate Interest\n",
    "#Write a Python program to compute the future value of a specified principal amount, rate of interest, and a number of years\n",
    "#Program Console Sample 1:\n",
    "#Please enter principal amount: 10000\n",
    "#Please Enter Rate of interest in %: 0.1\n",
    "#Enter number of years for investment: 5\n",
    "#After 5 years your principal amount 10000 over an interest rate of 0.1 % will be 16105.1"
   ]
  },
  {
   "cell_type": "code",
   "execution_count": 58,
   "metadata": {},
   "outputs": [
    {
     "name": "stdout",
     "output_type": "stream",
     "text": [
      "Enter the value of Principal Amount:\n",
      "10000\n",
      "Enter the Interest Rate in % :\n",
      "0.1\n",
      "Enter the Number of Investment in years:\n",
      "5\n",
      "Your Amount will be = \n",
      "16105.100000000006\n"
     ]
    }
   ],
   "source": [
    "principal_amount = float(input(\"Enter the value of Principal Amount:\\n\"))\n",
    "interest_rate = float(input(\"Enter the Interest Rate in % :\\n\"))\n",
    "time = float(input(\"Enter the Number of Investment in years:\\n\"))\n",
    "Amount= principal_amount*(1+interest_rate)**time\n",
    "print(\"Your Amount will be = \")\n",
    "print(Amount)"
   ]
  },
  {
   "cell_type": "markdown",
   "metadata": {},
   "source": [
    "## 10. Euclidean distance\n",
    "### write a Python program to compute the distance between the points (x1, y1) and (x2, y2).\n",
    "#### Program Console Sample 1:\n",
    "###### Enter Co-ordinate for x1: 2\n",
    "###### Enter Co-ordinate for x2: 4\n",
    "###### Enter Co-ordinate for y1: 4\n",
    "###### Enter Co-ordinate for y2: 4\n",
    "###### Distance between points (2, 4) and (4, 4) is 2"
   ]
  },
  {
   "cell_type": "markdown",
   "metadata": {},
   "source": [
    "###### Reference:\n",
    "https://en.wikipedia.org/wiki/Euclidean_distance"
   ]
  },
  {
   "cell_type": "code",
   "execution_count": 61,
   "metadata": {},
   "outputs": [
    {
     "name": "stdout",
     "output_type": "stream",
     "text": [
      "Enter Co-ordinate for x1:\n",
      "2\n",
      "Enter Co-ordinate for x2:\n",
      "4\n",
      "Enter Co-ordinate for y1:\n",
      "4\n",
      "Enter Co-ordinate for y2:\n",
      "4\n",
      "The Distance between two points is given by:\n",
      "\n",
      "2.0\n"
     ]
    }
   ],
   "source": [
    "#TO calculate the distance between two points\\\n",
    "\n",
    "x1= int(input(\"Enter Co-ordinate for x1:\\n\"))\n",
    "x2= int(input(\"Enter Co-ordinate for x2:\\n\"))\n",
    "y1= int(input(\"Enter Co-ordinate for y1:\\n\"))\n",
    "y2= int(input(\"Enter Co-ordinate for y2:\\n\"))\n",
    "a=(x2-x1)**2\n",
    "b=(y2-y1)**2\n",
    "dist= (a+b)**(1/2)\n",
    "print(\"The Distance between two points is given by:\\n\")\n",
    "print(dist)"
   ]
  },
  {
   "cell_type": "markdown",
   "metadata": {},
   "source": [
    "## 11. Feet to Centimeter Converter\n",
    "### Write a Python program to convert height in feet to centimetres.\n",
    "##### Program Console Sample 1:\n",
    "###### Enter Height in Feet: 5\n",
    "###### There are 152.4 Cm in 5 ft\n",
    "###### Reference:\n",
    "https://www.rapidtables.com/convert/length/feet-to-cm.html"
   ]
  },
  {
   "cell_type": "code",
   "execution_count": 63,
   "metadata": {},
   "outputs": [
    {
     "name": "stdout",
     "output_type": "stream",
     "text": [
      "Enter the value of Height in feets:\n",
      "5\n",
      "The Height in Centimeters: \n",
      "\n",
      "152.4\n"
     ]
    }
   ],
   "source": [
    "#1ft=30.48cm\n",
    "height = int(input(\"Enter the value of Height in feets:\\n\"))\n",
    "centimeters = 30.48*height\n",
    "print(\"The Height in Centimeters: \\n\")\n",
    "print(centimeters)"
   ]
  },
  {
   "cell_type": "markdown",
   "metadata": {},
   "source": [
    "## 12. BMI Calculator\n",
    "### Write a Python program to calculate body mass index\n",
    "##### Program Console Sample 1:\n",
    "###### Enter Height in Cm: 180\n",
    "###### Enter Weight in Kg: 75\n",
    "###### Your BMI is 23.15"
   ]
  },
  {
   "cell_type": "code",
   "execution_count": 64,
   "metadata": {},
   "outputs": [
    {
     "name": "stdout",
     "output_type": "stream",
     "text": [
      "Enter the value of Height in Cm:\n",
      "180\n",
      "Enter the value of Weight in Kg:\n",
      "75\n",
      "Your Body Mass Index(BMI) is:\n",
      "\n",
      "23.148148148148145\n"
     ]
    }
   ],
   "source": [
    "height = float(input(\"Enter the value of Height in Cm:\\n\"))\n",
    "weight = float(input(\"Enter the value of Weight in Kg:\\n\"))\n",
    "meters = height/100\n",
    "BMI = weight/(meters*meters)\n",
    "print(\"Your Body Mass Index(BMI) is:\\n\")\n",
    "print(BMI)"
   ]
  },
  {
   "cell_type": "markdown",
   "metadata": {},
   "source": [
    "## 13. Sum of n Positive Integers\n",
    "### Write a python program to sum of the first n positive integers\n",
    "#### Program Console Sample 1:\n",
    "###### Enter value of n: 5\n",
    "###### Sum of n Positive integers till 5 is 15"
   ]
  },
  {
   "cell_type": "code",
   "execution_count": 74,
   "metadata": {},
   "outputs": [
    {
     "name": "stdout",
     "output_type": "stream",
     "text": [
      "Enter value of numbers: 6\n",
      "Sum of n Positive Integers 6 is 21\n"
     ]
    }
   ],
   "source": [
    "init =0\n",
    "sum_of_numbers=int(input('Enter value of numbers: '))\n",
    "for i in range (1,sum_of_numbers+1):\n",
    "    init +=i\n",
    "print(\"Sum of n Positive Integers\",sum_of_numbers ,\"is\",init)"
   ]
  },
  {
   "cell_type": "markdown",
   "metadata": {},
   "source": [
    "## 14. Digits Sum of a Number\n",
    "### Write a Python program to calculate the sum of the digits in an integer\n",
    "#### Program Console Sample 1:\n",
    "##### Enter a number: 15\n",
    "###### Sum of 1 + 5 is 6\n",
    "#### Program Console Sample 2:\n",
    "##### Enter a number: 1234\n",
    "###### Sum of 1 + 2 + 3 + 4 is 10"
   ]
  },
  {
   "cell_type": "code",
   "execution_count": 73,
   "metadata": {},
   "outputs": [
    {
     "name": "stdout",
     "output_type": "stream",
     "text": [
      "Enter a number: 321\n",
      "Sum of: \n",
      "3 2 1  is 6\n"
     ]
    }
   ],
   "source": [
    "value=int(input(\"Enter a number: \"))\n",
    "value=str(value)\n",
    "sum=0\n",
    "for i in range(len(value)):\n",
    "    sum += int(value[i])\n",
    "\n",
    "print(\"Sum of: \")\n",
    "\n",
    "for i in value:\n",
    "    print(i, end=\" \")\n",
    "    \n",
    "print(\" is \" + str(sum))"
   ]
  },
  {
   "cell_type": "code",
   "execution_count": null,
   "metadata": {},
   "outputs": [],
   "source": []
  }
 ],
 "metadata": {
  "kernelspec": {
   "display_name": "Python 3",
   "language": "python",
   "name": "python3"
  },
  "language_info": {
   "codemirror_mode": {
    "name": "ipython",
    "version": 3
   },
   "file_extension": ".py",
   "mimetype": "text/x-python",
   "name": "python",
   "nbconvert_exporter": "python",
   "pygments_lexer": "ipython3",
   "version": "3.7.3"
  }
 },
 "nbformat": 4,
 "nbformat_minor": 2
}
